{
 "cells": [
  {
   "cell_type": "markdown",
   "id": "bf14a0f8",
   "metadata": {},
   "source": [
    "<div class=\"alert alert-block alert-info\">\n",
    "    <br><font face = \"Times New Roman\" size = \"6\"><b><center>PROYECTO FINAL</center></b></font>\n",
    "    <br><font face = \"Times New Roman\" size = \"5\"><b><center>Asignatura: Ing. de Características - Maestría en Informática Aplicada</center></b></font>\n",
    "    <br><font face = \"Times New Roman\" size = \"4\"><center>Profesor: Mtro. Gaddiel Desirena López</center></font>\n",
    "    <font face = \"Times New Roman\" size = \"4\"><center>Alumnos:</center></font>\n",
    "    <font face = \"Times New Roman\" size = \"4\"><center>Vanessa Suárez Blanco</center></font>\n",
    "    <font face = \"Times New Roman\" size = \"4\"><center>Pedro Ibarra González</center></font>\n",
    "        <font face = \"Times New Roman\" size = \"4\"><center>09 de Mayo de 2024</center></font>\n",
    "</div>"
   ]
  },
  {
   "cell_type": "markdown",
   "id": "90adc6c0",
   "metadata": {},
   "source": [
    "Actualmente, con los avances en las tecnologías de la información, la generación de datos de diversos tipos en un solo día tiene volúmenes muy altos y con tendencia creciente. Con el fin del aprovechamiento de la información valiosa que pueda estar oculta en los datos que se generan, se requieren tener conocimientos básicos de manejo de información, ingeniería de características y de análisis exploratorio de datos."
   ]
  },
  {
   "cell_type": "markdown",
   "id": "78a63708",
   "metadata": {},
   "source": [
    "De forma general, a menos que la persona sea una experta en el fenómeno en el cual se están generando los datos, el ingeniero que se disponga al análisis de los datos generados debe de realizar un análisis exploratorio para rescatar las características básicas que poseen los datos\n",
    "\n",
    "\n",
    "El objetivo del proyecto final es realizar un Análisis Exploratorio de Datos (EDA) a la base de datos asignada o elegida por el equipo y realizar las siguientes actividades:\n",
    "\n",
    "\n",
    "**1.- Aplicar las técnicas y algoritmos vistos en los tres parciales del curso:**\n",
    "\n",
    "-  1.1. Identificación de datos\n",
    "-  1.2. Tratamiento de datos faltantes \n",
    "-  1.3. Codificación de variables categóricas \n",
    "-  1.4. Transformación de variables numéricas\n",
    "-  1.5. Escalamiento de variables \n",
    "-  1.6. Discretización de variables\n",
    "\n",
    "\n",
    "**2.- Del dataframe obtenido realizar una clusterización mediante los algoritmos**\n",
    "-  Kmeans++\n",
    "-  Arboles de decisión\n",
    "-  Clustering jerárquico. \n",
    "\n",
    "Obtenga gráficas y comentarios de sus resultados.\n",
    "\n",
    "\n",
    "**3.- Finalmente, del conjunto de datos, identificar la o las variables de salida y las variables de entrada para entrenar algún algoritmo de ML (Arboles de desición, Regresiones lineales, etc… ), se requiere obtener un accuracy arriba del 80%, si el accuracy está por debajo de este valor, entonces será necesario repetir el punto 1.**"
   ]
  },
  {
   "cell_type": "code",
   "execution_count": 1,
   "id": "8acb0f1c",
   "metadata": {},
   "outputs": [],
   "source": [
    "#Borrar después\n",
    "#Entregables:\n",
    "\n",
    "#• Presentación con diapositivas\n",
    "\n",
    "#• Reporte que valide la realización del proyecto.\n",
    "\n",
    "#• Código en Jupyter notebook del proceso del proyecto, analíticas, comentarios y gráficas"
   ]
  },
  {
   "cell_type": "markdown",
   "id": "5122c3c1",
   "metadata": {},
   "source": [
    "El conjunto de datos de LinkedIn proporcionado contiene **7,927 filas y 15 columnas**, ofreciendo una visión general completa de las ofertas de empleo en la plataforma. \n",
    "\n",
    "Los datos se pueden utilizar para análisis de datos, visualización e investigación. Las ofertas de empleo incluyen roles de Analista de Datos, Ingeniero de Aprendizaje Automático, Servicios de TI y Consultoría de TI, ubicados en diversos lugares del mundo, con salarios y horarios de trabajo variados. \n",
    "\n",
    "El conjunto de datos incluye información sobre la empresa, las responsabilidades del rol y las habilidades requeridas para cada empleo. Este conjunto de datos es un recurso valioso para comprender las oportunidades laborales en diferentes industrias y ubicaciones.\n",
    "\n",
    "Descripciones de las columnas:\n",
    "- **job_ID**: Identificador único para cada oferta de empleo.\n",
    "- **job**: El título de la oferta de empleo.\n",
    "- **location**: La ubicación de la oferta de empleo.\n",
    "- **company_id**: El identificador único de la empresa que ofrece el empleo.\n",
    "- **company_name**: El nombre de la empresa que ofrece el empleo.\n",
    "- **work_type**: El tipo de trabajo ofrecido (por ejemplo, tiempo completo, tiempo parcial, etc.).\n",
    "- **full_time_remote**: Indica si el empleo es una posición remota a tiempo completo.\n",
    "- **no_of_employ**: El número de empleados en la empresa que ofrece el empleo.\n",
    "- **no_of_application**: El número de solicitudes recibidas para el empleo.\n",
    "- **posted_day_ago**: El número de días desde que se publicó el empleo.\n",
    "- **alumni**: Indica si la oferta de empleo es para exalumnos de una determinada organización.\n",
    "- **Hiring_person**: El nombre de la persona responsable de contratar para el empleo.\n",
    "- **linkedin_followers**: El número de seguidores en LinkedIn de la persona que contrata.\n",
    "- **hiring_person_link**: Un enlace al perfil de LinkedIn de la persona que contrata.\n",
    "- **job_details**: Información detallada sobre el empleo, incluyendo responsabilidades y requisitos."
   ]
  },
  {
   "cell_type": "markdown",
   "id": "dd83f5d7",
   "metadata": {},
   "source": [
    "## 1.- Aplicar las técnicas y algoritmos vistos en los tres parciales del curso:\n",
    "\n",
    "### 1.1. Identificación de datos"
   ]
  },
  {
   "cell_type": "markdown",
   "id": "7a5571c5",
   "metadata": {},
   "source": [
    "#### Variables Binarias\n",
    "alumni_binary: Indica la presencia (1) o ausencia (0) de exalumnos, derivado de la columna alumni.\n",
    "\n",
    "#### Variables Nominales\n",
    "-  job: El título de la oferta de empleo.\n",
    "-  location: Ubicación de la oferta de empleo.\n",
    "-  company_name: Nombre de la empresa que ofrece el empleo.\n",
    "-  work_type: Tipo de trabajo ofrecido (e.g., tiempo completo, tiempo parcial).\n",
    "-  full_time_remote: Indica si el empleo es a tiempo completo y remoto o no.\n",
    "\n",
    "#### Variables Ordinales\n",
    "-  full_time_remote: Podría considerarse ordinal si las categorías implican un orden de tipo de contrato o nivel de senioridad (e.g., Asociado vs. Nivel Senior).\n",
    "\n",
    "#### Variables Numéricas\n",
    "-  job_ID: Identificador único para cada oferta de empleo.\n",
    "-  no_of_application: Número de aplicaciones."
   ]
  },
  {
   "cell_type": "code",
   "execution_count": 2,
   "id": "1f5d5bf8",
   "metadata": {},
   "outputs": [],
   "source": [
    "# Importar Librerias de toda la tarea\n",
    "import numpy as np\n",
    "import pandas as pd\n",
    "import matplotlib.pyplot as plt\n",
    "from sklearn.tree import DecisionTreeRegressor\n",
    "from sklearn.model_selection import train_test_split\n",
    "from fuzzywuzzy import process\n",
    "import re"
   ]
  },
  {
   "cell_type": "code",
   "execution_count": 3,
   "id": "4354de91",
   "metadata": {},
   "outputs": [
    {
     "data": {
      "text/html": [
       "<div>\n",
       "<style scoped>\n",
       "    .dataframe tbody tr th:only-of-type {\n",
       "        vertical-align: middle;\n",
       "    }\n",
       "\n",
       "    .dataframe tbody tr th {\n",
       "        vertical-align: top;\n",
       "    }\n",
       "\n",
       "    .dataframe thead th {\n",
       "        text-align: right;\n",
       "    }\n",
       "</style>\n",
       "<table border=\"1\" class=\"dataframe\">\n",
       "  <thead>\n",
       "    <tr style=\"text-align: right;\">\n",
       "      <th></th>\n",
       "      <th>job_ID</th>\n",
       "      <th>job</th>\n",
       "      <th>location</th>\n",
       "      <th>company_id</th>\n",
       "      <th>company_name</th>\n",
       "      <th>work_type</th>\n",
       "      <th>full_time_remote</th>\n",
       "      <th>no_of_employ</th>\n",
       "      <th>no_of_application</th>\n",
       "      <th>posted_day_ago</th>\n",
       "      <th>alumni</th>\n",
       "      <th>Hiring_person</th>\n",
       "      <th>linkedin_followers</th>\n",
       "      <th>hiring_person_link</th>\n",
       "      <th>job_details</th>\n",
       "      <th>Column1</th>\n",
       "    </tr>\n",
       "  </thead>\n",
       "  <tbody>\n",
       "    <tr>\n",
       "      <th>0</th>\n",
       "      <td>3471657636</td>\n",
       "      <td>Data Analyst, Trilogy (Remote) - $60,000/year USD</td>\n",
       "      <td>Delhi, Delhi, India</td>\n",
       "      <td>NaN</td>\n",
       "      <td>Crossover</td>\n",
       "      <td>Remote</td>\n",
       "      <td>Full-time · Associate</td>\n",
       "      <td>1,001-5,000 employees · IT Services and IT Con...</td>\n",
       "      <td>200</td>\n",
       "      <td>8 hours</td>\n",
       "      <td>12 company alumni</td>\n",
       "      <td>NaN</td>\n",
       "      <td>5,395,547 followers</td>\n",
       "      <td>NaN</td>\n",
       "      <td>About the job Crossover is the world's #1 sour...</td>\n",
       "      <td>NaN</td>\n",
       "    </tr>\n",
       "    <tr>\n",
       "      <th>1</th>\n",
       "      <td>3471669068</td>\n",
       "      <td>Data Analyst, Trilogy (Remote) - $60,000/year USD</td>\n",
       "      <td>New Delhi, Delhi, India</td>\n",
       "      <td>NaN</td>\n",
       "      <td>Crossover</td>\n",
       "      <td>Remote</td>\n",
       "      <td>Full-time · Associate</td>\n",
       "      <td>1,001-5,000 employees · IT Services and IT Con...</td>\n",
       "      <td>184</td>\n",
       "      <td>8 hours</td>\n",
       "      <td>12 company alumni</td>\n",
       "      <td>NaN</td>\n",
       "      <td>5,395,547 followers</td>\n",
       "      <td>NaN</td>\n",
       "      <td>About the job Crossover is the world's #1 sour...</td>\n",
       "      <td>NaN</td>\n",
       "    </tr>\n",
       "    <tr>\n",
       "      <th>2</th>\n",
       "      <td>3474349934</td>\n",
       "      <td>Data Analyst - WFH</td>\n",
       "      <td>Greater Bengaluru Area</td>\n",
       "      <td>NaN</td>\n",
       "      <td>Uplers</td>\n",
       "      <td>Remote</td>\n",
       "      <td>Full-time · Mid-Senior level</td>\n",
       "      <td>1,001-5,000 employees · IT Services and IT Con...</td>\n",
       "      <td>200</td>\n",
       "      <td>9 hours</td>\n",
       "      <td>3 company alumni</td>\n",
       "      <td>Shahid Ahmad</td>\n",
       "      <td>NaN</td>\n",
       "      <td>https://www.linkedin.com/in/shahid-ahmad-a2613...</td>\n",
       "      <td>About the job Profile: ML EngineersExperience:...</td>\n",
       "      <td>NaN</td>\n",
       "    </tr>\n",
       "    <tr>\n",
       "      <th>3</th>\n",
       "      <td>3472816027</td>\n",
       "      <td>Data Analyst</td>\n",
       "      <td>Gurugram, Haryana, India</td>\n",
       "      <td>NaN</td>\n",
       "      <td>PVAR SERVICES</td>\n",
       "      <td>On-site</td>\n",
       "      <td>Full-time</td>\n",
       "      <td>1-10 employees</td>\n",
       "      <td>200</td>\n",
       "      <td>7 hours</td>\n",
       "      <td>NaN</td>\n",
       "      <td>Vartika Singh</td>\n",
       "      <td>2,094 followers</td>\n",
       "      <td>https://www.linkedin.com/in/vartika-singh-</td>\n",
       "      <td>About the job Designation: Data AnalystLocatio...</td>\n",
       "      <td>NaN</td>\n",
       "    </tr>\n",
       "    <tr>\n",
       "      <th>4</th>\n",
       "      <td>3473311511</td>\n",
       "      <td>Data Analyst</td>\n",
       "      <td>Mohali district, Punjab, India</td>\n",
       "      <td>NaN</td>\n",
       "      <td>Timeline Freight Brokers</td>\n",
       "      <td>On-site</td>\n",
       "      <td>Full-time</td>\n",
       "      <td>1-10 employees</td>\n",
       "      <td>8</td>\n",
       "      <td>26 minutes</td>\n",
       "      <td>1 company alumni</td>\n",
       "      <td>Manisha (Gisele Smith)</td>\n",
       "      <td>NaN</td>\n",
       "      <td>https://www.linkedin.com/in/manisharathore0029</td>\n",
       "      <td>About the job The ideal candidate will use the...</td>\n",
       "      <td>NaN</td>\n",
       "    </tr>\n",
       "  </tbody>\n",
       "</table>\n",
       "</div>"
      ],
      "text/plain": [
       "       job_ID                                                job  \\\n",
       "0  3471657636  Data Analyst, Trilogy (Remote) - $60,000/year USD   \n",
       "1  3471669068  Data Analyst, Trilogy (Remote) - $60,000/year USD   \n",
       "2  3474349934                                 Data Analyst - WFH   \n",
       "3  3472816027                                       Data Analyst   \n",
       "4  3473311511                                       Data Analyst   \n",
       "\n",
       "                         location  company_id              company_name  \\\n",
       "0             Delhi, Delhi, India         NaN                 Crossover   \n",
       "1         New Delhi, Delhi, India         NaN                 Crossover   \n",
       "2          Greater Bengaluru Area         NaN                    Uplers   \n",
       "3        Gurugram, Haryana, India         NaN             PVAR SERVICES   \n",
       "4  Mohali district, Punjab, India         NaN  Timeline Freight Brokers   \n",
       "\n",
       "  work_type              full_time_remote  \\\n",
       "0    Remote         Full-time · Associate   \n",
       "1    Remote         Full-time · Associate   \n",
       "2    Remote  Full-time · Mid-Senior level   \n",
       "3   On-site                     Full-time   \n",
       "4   On-site                     Full-time   \n",
       "\n",
       "                                        no_of_employ no_of_application  \\\n",
       "0  1,001-5,000 employees · IT Services and IT Con...               200   \n",
       "1  1,001-5,000 employees · IT Services and IT Con...               184   \n",
       "2  1,001-5,000 employees · IT Services and IT Con...               200   \n",
       "3                                     1-10 employees               200   \n",
       "4                                     1-10 employees                 8   \n",
       "\n",
       "  posted_day_ago             alumni           Hiring_person  \\\n",
       "0        8 hours  12 company alumni                     NaN   \n",
       "1        8 hours  12 company alumni                     NaN   \n",
       "2        9 hours   3 company alumni            Shahid Ahmad   \n",
       "3        7 hours                NaN           Vartika Singh   \n",
       "4     26 minutes   1 company alumni  Manisha (Gisele Smith)   \n",
       "\n",
       "    linkedin_followers                                 hiring_person_link  \\\n",
       "0  5,395,547 followers                                                NaN   \n",
       "1  5,395,547 followers                                                NaN   \n",
       "2                  NaN  https://www.linkedin.com/in/shahid-ahmad-a2613...   \n",
       "3      2,094 followers         https://www.linkedin.com/in/vartika-singh-   \n",
       "4                  NaN     https://www.linkedin.com/in/manisharathore0029   \n",
       "\n",
       "                                         job_details  Column1  \n",
       "0  About the job Crossover is the world's #1 sour...      NaN  \n",
       "1  About the job Crossover is the world's #1 sour...      NaN  \n",
       "2  About the job Profile: ML EngineersExperience:...      NaN  \n",
       "3  About the job Designation: Data AnalystLocatio...      NaN  \n",
       "4  About the job The ideal candidate will use the...      NaN  "
      ]
     },
     "execution_count": 3,
     "metadata": {},
     "output_type": "execute_result"
    }
   ],
   "source": [
    "# Cargamos el df de LinkedIn desde un archivo CSV\n",
    "df = pd.read_csv('./linkedin.csv')\n",
    "\n",
    "# Mostramos las pirmeras linas para familiarizarnos los datos\n",
    "df.head()"
   ]
  },
  {
   "cell_type": "code",
   "execution_count": 4,
   "id": "b2cc508a",
   "metadata": {},
   "outputs": [
    {
     "name": "stdout",
     "output_type": "stream",
     "text": [
      "<class 'pandas.core.frame.DataFrame'>\n",
      "RangeIndex: 7927 entries, 0 to 7926\n",
      "Data columns (total 16 columns):\n",
      " #   Column              Non-Null Count  Dtype  \n",
      "---  ------              --------------  -----  \n",
      " 0   job_ID              7927 non-null   int64  \n",
      " 1   job                 7894 non-null   object \n",
      " 2   location            7894 non-null   object \n",
      " 3   company_id          0 non-null      float64\n",
      " 4   company_name        7892 non-null   object \n",
      " 5   work_type           7736 non-null   object \n",
      " 6   full_time_remote    7848 non-null   object \n",
      " 7   no_of_employ        7603 non-null   object \n",
      " 8   no_of_application   7887 non-null   object \n",
      " 9   posted_day_ago      7920 non-null   object \n",
      " 10  alumni              4858 non-null   object \n",
      " 11  Hiring_person       5720 non-null   object \n",
      " 12  linkedin_followers  4814 non-null   object \n",
      " 13  hiring_person_link  5720 non-null   object \n",
      " 14  job_details         7881 non-null   object \n",
      " 15  Column1             0 non-null      float64\n",
      "dtypes: float64(2), int64(1), object(13)\n",
      "memory usage: 991.0+ KB\n"
     ]
    }
   ],
   "source": [
    "df.info()"
   ]
  },
  {
   "cell_type": "code",
   "execution_count": 5,
   "id": "100e0276",
   "metadata": {},
   "outputs": [
    {
     "name": "stdout",
     "output_type": "stream",
     "text": [
      "job_ID                5843\n",
      "job                   2991\n",
      "location               151\n",
      "company_id               0\n",
      "company_name          2495\n",
      "work_type                3\n",
      "full_time_remote        23\n",
      "no_of_employ           269\n",
      "no_of_application      202\n",
      "posted_day_ago          91\n",
      "alumni                 191\n",
      "Hiring_person         2823\n",
      "linkedin_followers    3935\n",
      "hiring_person_link    2845\n",
      "job_details           4563\n",
      "Column1                  0\n",
      "dtype: int64\n"
     ]
    }
   ],
   "source": [
    "valores_unicos = df.nunique()\n",
    "\n",
    "# Mostrar el número de valores únicos para cada columna\n",
    "print(valores_unicos)"
   ]
  },
  {
   "cell_type": "markdown",
   "id": "c225c7d0",
   "metadata": {},
   "source": [
    "**Se ha detectado que la variable job_ID contiene valores duplicados.** Aunque el conjunto de datos tiene cerca de 8 mil filas, solo hay 5843 valores únicos de job_ID. Por lo tanto, vamos a eliminar las filas duplicadas para asegurar la integridad del análisis."
   ]
  },
  {
   "cell_type": "code",
   "execution_count": 6,
   "id": "095c5b81",
   "metadata": {},
   "outputs": [
    {
     "name": "stdout",
     "output_type": "stream",
     "text": [
      "<class 'pandas.core.frame.DataFrame'>\n",
      "Index: 5843 entries, 0 to 7926\n",
      "Data columns (total 16 columns):\n",
      " #   Column              Non-Null Count  Dtype  \n",
      "---  ------              --------------  -----  \n",
      " 0   job_ID              5843 non-null   int64  \n",
      " 1   job                 5816 non-null   object \n",
      " 2   location            5816 non-null   object \n",
      " 3   company_id          0 non-null      float64\n",
      " 4   company_name        5815 non-null   object \n",
      " 5   work_type           5711 non-null   object \n",
      " 6   full_time_remote    5776 non-null   object \n",
      " 7   no_of_employ        5614 non-null   object \n",
      " 8   no_of_application   5810 non-null   object \n",
      " 9   posted_day_ago      5837 non-null   object \n",
      " 10  alumni              3586 non-null   object \n",
      " 11  Hiring_person       4157 non-null   object \n",
      " 12  linkedin_followers  3530 non-null   object \n",
      " 13  hiring_person_link  4157 non-null   object \n",
      " 14  job_details         5805 non-null   object \n",
      " 15  Column1             0 non-null      float64\n",
      "dtypes: float64(2), int64(1), object(13)\n",
      "memory usage: 776.0+ KB\n"
     ]
    }
   ],
   "source": [
    "# Eliminar filas donde 'job_id' está duplicado, manteniendo la primera ocurrencia\n",
    "df = df.drop_duplicates(subset='job_ID', keep='first')\n",
    "df.info()"
   ]
  },
  {
   "cell_type": "markdown",
   "id": "f4d87f9b",
   "metadata": {},
   "source": [
    "Se observa el tipo de dato de cada variable, para su posterior categorización."
   ]
  },
  {
   "cell_type": "code",
   "execution_count": 7,
   "id": "2dfab65e",
   "metadata": {
    "scrolled": true
   },
   "outputs": [
    {
     "name": "stdout",
     "output_type": "stream",
     "text": [
      "Variables Numéricas: ['job_ID', 'company_id', 'no_of_application', 'Column1', 'alumni_binary']\n",
      "Variables Binarias: ['alumni_binary']\n",
      "Variables Nominales: ['job', 'location', 'company_name', 'work_type', 'full_time_remote']\n",
      "Variables Ordinales: ['full_time_remote']\n"
     ]
    }
   ],
   "source": [
    "# Extracción de números de la columna 'no_of_application' y conversión a float\n",
    "# Utilizamos una expresión regular para extraer solo las partes numéricas de cada entrada\n",
    "df['no_of_application'] = df['no_of_application'].str.extract('(\\d+)').astype(float)\n",
    "\n",
    "# Creación de una variable binaria para 'alumni'\n",
    "# Si hay un valor no nulo, se asume la presencia de al menos un exalumno (Si hay = 1)\n",
    "# De lo contrario, su ausencia (No hay = 0)\n",
    "df['alumni_binary'] = df['alumni'].notna().astype(int)\n",
    "\n",
    "# Identificación de los tipos de variables en el DataFrame\n",
    "\n",
    "# Variables numéricas: Se seleccionan columnas que contienen datos de tipo float o int\n",
    "numeric_columns_df = df.select_dtypes(include=['int64', 'float64']).columns.tolist()\n",
    "\n",
    "# Variables binarias: Se buscan columnas que sólo contengan dos valores únicos\n",
    "# Estas variables son útiles para representar condiciones booleanas\n",
    "binary_columns_df = [col for col in df.columns if df[col].nunique() == 2]\n",
    "\n",
    "# Clasificación de variables nominales y ordinales:\n",
    "nominal_columns_df = ['job', 'location', 'company_name', 'work_type', 'full_time_remote']\n",
    "ordinal_columns_df = ['full_time_remote']\n",
    "\n",
    "# Impresión de los resultados para verificar los tipos de variables identificados\n",
    "print(\"Variables Numéricas:\", numeric_columns_df)\n",
    "print(\"Variables Binarias:\", binary_columns_df)\n",
    "print(\"Variables Nominales:\", nominal_columns_df)\n",
    "print(\"Variables Ordinales:\", ordinal_columns_df)"
   ]
  },
  {
   "cell_type": "markdown",
   "id": "ee1c76aa",
   "metadata": {},
   "source": [
    "### 1.2. Tratamiento de Datos Faltantes"
   ]
  },
  {
   "cell_type": "markdown",
   "id": "6fa53665",
   "metadata": {},
   "source": [
    "Se identificaron anteriormente valores nulos en todas las filas de las columnas `Column1`y `company_id`por lo que se remueven del dataset."
   ]
  },
  {
   "cell_type": "code",
   "execution_count": 8,
   "id": "0d525626",
   "metadata": {},
   "outputs": [
    {
     "data": {
      "text/html": [
       "<div>\n",
       "<style scoped>\n",
       "    .dataframe tbody tr th:only-of-type {\n",
       "        vertical-align: middle;\n",
       "    }\n",
       "\n",
       "    .dataframe tbody tr th {\n",
       "        vertical-align: top;\n",
       "    }\n",
       "\n",
       "    .dataframe thead th {\n",
       "        text-align: right;\n",
       "    }\n",
       "</style>\n",
       "<table border=\"1\" class=\"dataframe\">\n",
       "  <thead>\n",
       "    <tr style=\"text-align: right;\">\n",
       "      <th></th>\n",
       "      <th>job_ID</th>\n",
       "      <th>job</th>\n",
       "      <th>location</th>\n",
       "      <th>company_name</th>\n",
       "      <th>work_type</th>\n",
       "      <th>full_time_remote</th>\n",
       "      <th>no_of_employ</th>\n",
       "      <th>no_of_application</th>\n",
       "      <th>posted_day_ago</th>\n",
       "      <th>alumni</th>\n",
       "      <th>Hiring_person</th>\n",
       "      <th>linkedin_followers</th>\n",
       "      <th>hiring_person_link</th>\n",
       "      <th>job_details</th>\n",
       "      <th>alumni_binary</th>\n",
       "    </tr>\n",
       "  </thead>\n",
       "  <tbody>\n",
       "    <tr>\n",
       "      <th>0</th>\n",
       "      <td>3471657636</td>\n",
       "      <td>Data Analyst, Trilogy (Remote) - $60,000/year USD</td>\n",
       "      <td>Delhi, Delhi, India</td>\n",
       "      <td>Crossover</td>\n",
       "      <td>Remote</td>\n",
       "      <td>Full-time · Associate</td>\n",
       "      <td>1,001-5,000 employees · IT Services and IT Con...</td>\n",
       "      <td>200.0</td>\n",
       "      <td>8 hours</td>\n",
       "      <td>12 company alumni</td>\n",
       "      <td>NaN</td>\n",
       "      <td>5,395,547 followers</td>\n",
       "      <td>NaN</td>\n",
       "      <td>About the job Crossover is the world's #1 sour...</td>\n",
       "      <td>1</td>\n",
       "    </tr>\n",
       "    <tr>\n",
       "      <th>1</th>\n",
       "      <td>3471669068</td>\n",
       "      <td>Data Analyst, Trilogy (Remote) - $60,000/year USD</td>\n",
       "      <td>New Delhi, Delhi, India</td>\n",
       "      <td>Crossover</td>\n",
       "      <td>Remote</td>\n",
       "      <td>Full-time · Associate</td>\n",
       "      <td>1,001-5,000 employees · IT Services and IT Con...</td>\n",
       "      <td>184.0</td>\n",
       "      <td>8 hours</td>\n",
       "      <td>12 company alumni</td>\n",
       "      <td>NaN</td>\n",
       "      <td>5,395,547 followers</td>\n",
       "      <td>NaN</td>\n",
       "      <td>About the job Crossover is the world's #1 sour...</td>\n",
       "      <td>1</td>\n",
       "    </tr>\n",
       "    <tr>\n",
       "      <th>2</th>\n",
       "      <td>3474349934</td>\n",
       "      <td>Data Analyst - WFH</td>\n",
       "      <td>Greater Bengaluru Area</td>\n",
       "      <td>Uplers</td>\n",
       "      <td>Remote</td>\n",
       "      <td>Full-time · Mid-Senior level</td>\n",
       "      <td>1,001-5,000 employees · IT Services and IT Con...</td>\n",
       "      <td>200.0</td>\n",
       "      <td>9 hours</td>\n",
       "      <td>3 company alumni</td>\n",
       "      <td>Shahid Ahmad</td>\n",
       "      <td>NaN</td>\n",
       "      <td>https://www.linkedin.com/in/shahid-ahmad-a2613...</td>\n",
       "      <td>About the job Profile: ML EngineersExperience:...</td>\n",
       "      <td>1</td>\n",
       "    </tr>\n",
       "    <tr>\n",
       "      <th>3</th>\n",
       "      <td>3472816027</td>\n",
       "      <td>Data Analyst</td>\n",
       "      <td>Gurugram, Haryana, India</td>\n",
       "      <td>PVAR SERVICES</td>\n",
       "      <td>On-site</td>\n",
       "      <td>Full-time</td>\n",
       "      <td>1-10 employees</td>\n",
       "      <td>200.0</td>\n",
       "      <td>7 hours</td>\n",
       "      <td>NaN</td>\n",
       "      <td>Vartika Singh</td>\n",
       "      <td>2,094 followers</td>\n",
       "      <td>https://www.linkedin.com/in/vartika-singh-</td>\n",
       "      <td>About the job Designation: Data AnalystLocatio...</td>\n",
       "      <td>0</td>\n",
       "    </tr>\n",
       "    <tr>\n",
       "      <th>4</th>\n",
       "      <td>3473311511</td>\n",
       "      <td>Data Analyst</td>\n",
       "      <td>Mohali district, Punjab, India</td>\n",
       "      <td>Timeline Freight Brokers</td>\n",
       "      <td>On-site</td>\n",
       "      <td>Full-time</td>\n",
       "      <td>1-10 employees</td>\n",
       "      <td>8.0</td>\n",
       "      <td>26 minutes</td>\n",
       "      <td>1 company alumni</td>\n",
       "      <td>Manisha (Gisele Smith)</td>\n",
       "      <td>NaN</td>\n",
       "      <td>https://www.linkedin.com/in/manisharathore0029</td>\n",
       "      <td>About the job The ideal candidate will use the...</td>\n",
       "      <td>1</td>\n",
       "    </tr>\n",
       "  </tbody>\n",
       "</table>\n",
       "</div>"
      ],
      "text/plain": [
       "       job_ID                                                job  \\\n",
       "0  3471657636  Data Analyst, Trilogy (Remote) - $60,000/year USD   \n",
       "1  3471669068  Data Analyst, Trilogy (Remote) - $60,000/year USD   \n",
       "2  3474349934                                 Data Analyst - WFH   \n",
       "3  3472816027                                       Data Analyst   \n",
       "4  3473311511                                       Data Analyst   \n",
       "\n",
       "                         location              company_name work_type  \\\n",
       "0             Delhi, Delhi, India                 Crossover    Remote   \n",
       "1         New Delhi, Delhi, India                 Crossover    Remote   \n",
       "2          Greater Bengaluru Area                    Uplers    Remote   \n",
       "3        Gurugram, Haryana, India             PVAR SERVICES   On-site   \n",
       "4  Mohali district, Punjab, India  Timeline Freight Brokers   On-site   \n",
       "\n",
       "               full_time_remote  \\\n",
       "0         Full-time · Associate   \n",
       "1         Full-time · Associate   \n",
       "2  Full-time · Mid-Senior level   \n",
       "3                     Full-time   \n",
       "4                     Full-time   \n",
       "\n",
       "                                        no_of_employ  no_of_application  \\\n",
       "0  1,001-5,000 employees · IT Services and IT Con...              200.0   \n",
       "1  1,001-5,000 employees · IT Services and IT Con...              184.0   \n",
       "2  1,001-5,000 employees · IT Services and IT Con...              200.0   \n",
       "3                                     1-10 employees              200.0   \n",
       "4                                     1-10 employees                8.0   \n",
       "\n",
       "  posted_day_ago             alumni           Hiring_person  \\\n",
       "0        8 hours  12 company alumni                     NaN   \n",
       "1        8 hours  12 company alumni                     NaN   \n",
       "2        9 hours   3 company alumni            Shahid Ahmad   \n",
       "3        7 hours                NaN           Vartika Singh   \n",
       "4     26 minutes   1 company alumni  Manisha (Gisele Smith)   \n",
       "\n",
       "    linkedin_followers                                 hiring_person_link  \\\n",
       "0  5,395,547 followers                                                NaN   \n",
       "1  5,395,547 followers                                                NaN   \n",
       "2                  NaN  https://www.linkedin.com/in/shahid-ahmad-a2613...   \n",
       "3      2,094 followers         https://www.linkedin.com/in/vartika-singh-   \n",
       "4                  NaN     https://www.linkedin.com/in/manisharathore0029   \n",
       "\n",
       "                                         job_details  alumni_binary  \n",
       "0  About the job Crossover is the world's #1 sour...              1  \n",
       "1  About the job Crossover is the world's #1 sour...              1  \n",
       "2  About the job Profile: ML EngineersExperience:...              1  \n",
       "3  About the job Designation: Data AnalystLocatio...              0  \n",
       "4  About the job The ideal candidate will use the...              1  "
      ]
     },
     "execution_count": 8,
     "metadata": {},
     "output_type": "execute_result"
    }
   ],
   "source": [
    "# Drop de Column1 y Company_id ya que es una columna totalmente vacia, no tiene datos sólo el header\n",
    "df.drop('Column1', axis=1, inplace=True)\n",
    "df.drop('company_id', axis=1, inplace=True)\n",
    "\n",
    "# Validar que se removieron satisfactoriamente\n",
    "df.head()"
   ]
  },
  {
   "cell_type": "markdown",
   "id": "810cd1cf",
   "metadata": {},
   "source": [
    "**Encontrar y contar los valores nulos en cada columna** para identificar las que van a requerir tratamiento/imputación."
   ]
  },
  {
   "cell_type": "code",
   "execution_count": 9,
   "id": "2bc9e691",
   "metadata": {
    "scrolled": true
   },
   "outputs": [
    {
     "name": "stdout",
     "output_type": "stream",
     "text": [
      "Cantidad de valores nulos por columna:\n",
      "job_ID                   0\n",
      "job                     27\n",
      "location                27\n",
      "company_name            28\n",
      "work_type              132\n",
      "full_time_remote        67\n",
      "no_of_employ           229\n",
      "no_of_application     3311\n",
      "posted_day_ago           6\n",
      "alumni                2257\n",
      "Hiring_person         1686\n",
      "linkedin_followers    2313\n",
      "hiring_person_link    1686\n",
      "job_details             38\n",
      "alumni_binary            0\n",
      "dtype: int64\n"
     ]
    }
   ],
   "source": [
    "nulos_por_columna = df.isnull().sum()\n",
    "print(\"Cantidad de valores nulos por columna:\")\n",
    "print(nulos_por_columna)"
   ]
  },
  {
   "cell_type": "markdown",
   "id": "ac29551c",
   "metadata": {},
   "source": [
    "* **Variable `job` y `company_name`**: Se eliminarán las filas donde la variable está vacía dado que las demás columnas también están vacías (lo cual se determinó por observación del csv)."
   ]
  },
  {
   "cell_type": "code",
   "execution_count": 10,
   "id": "7de699a3",
   "metadata": {
    "scrolled": true
   },
   "outputs": [
    {
     "name": "stdout",
     "output_type": "stream",
     "text": [
      "job_ID                   0\n",
      "job                      0\n",
      "location                 0\n",
      "company_name             0\n",
      "work_type              105\n",
      "full_time_remote        40\n",
      "no_of_employ           201\n",
      "no_of_application     3284\n",
      "posted_day_ago           6\n",
      "alumni                2229\n",
      "Hiring_person         1659\n",
      "linkedin_followers    2285\n",
      "hiring_person_link    1659\n",
      "job_details             11\n",
      "alumni_binary            0\n",
      "dtype: int64\n"
     ]
    }
   ],
   "source": [
    "#Eliminar filas donde cualquier columna tenga un valor nulo\n",
    "\n",
    "df.dropna(subset=['job', 'company_name'], inplace=True)\n",
    "nulos_por_columna = df.isnull().sum()\n",
    "print(nulos_por_columna)"
   ]
  },
  {
   "cell_type": "markdown",
   "id": "e33eb59d",
   "metadata": {},
   "source": [
    "* **Variable `location`**: Se observa que ya no hay nulos en esta columna, por lo que se infiere que eran las mismas filas donde la variable `job` o `company_name` estaba en blanco. Por lo tanto, **no se requiere tratamiento adicional**."
   ]
  },
  {
   "cell_type": "markdown",
   "id": "ce5ad7a4",
   "metadata": {},
   "source": [
    "* **Variable `work_type`**: Para los valores nulos en la columna, que constituyen solo 158 del total, asignaremos aleatoriamente una de las categorías *Hybrid*, *Remote*, o *On-site*. Dado que estos nulos son una pequeña fracción del conjunto de datos, la asignación aleatoria basada en las probabilidades observadas de las otras categorías debería reflejar adecuadamente la distribución general sin complicar el proceso."
   ]
  },
  {
   "cell_type": "code",
   "execution_count": 11,
   "id": "68832314",
   "metadata": {},
   "outputs": [
    {
     "data": {
      "text/plain": [
       "<Axes: >"
      ]
     },
     "execution_count": 11,
     "metadata": {},
     "output_type": "execute_result"
    },
    {
     "data": {
      "image/png": "[encoded data removed]",
      "text/plain": [
       "<Figure size 640x480 with 1 Axes>"
      ]
     },
     "metadata": {},
     "output_type": "display_data"
    }
   ],
   "source": [
    "df['work_type'].hist()"
   ]
  },
  {
   "cell_type": "code",
   "execution_count": 12,
   "id": "d23fb094",
   "metadata": {},
   "outputs": [
    {
     "name": "stdout",
     "output_type": "stream",
     "text": [
      "Probabilidades de cada categoría en 'work_type':\n",
      "work_type\n",
      "Remote     0.414886\n",
      "On-site    0.412434\n",
      "Hybrid     0.172680\n",
      "Name: count, dtype: float64\n"
     ]
    }
   ],
   "source": [
    "# Calcular la cantidad total de valores no nulos en la columna ‘work_type’\n",
    "total_no_nulos = df['work_type'].notnull().sum()\n",
    "\n",
    "# Calcular la frecuencia de cada categoría en la columna ‘work_type’, excluyendo nulos\n",
    "frecuencias = df['work_type'].value_counts()\n",
    "\n",
    "# Calcular las probabilidades de cada categoría\n",
    "probabilidades = frecuencias / total_no_nulos\n",
    "\n",
    "# Mostrar las probabilidades calculadas\n",
    "print(\"Probabilidades de cada categoría en 'work_type':\")\n",
    "print(probabilidades)"
   ]
  },
  {
   "cell_type": "code",
   "execution_count": 13,
   "id": "ba60a999",
   "metadata": {},
   "outputs": [],
   "source": [
    "# Identificar los índices de las filas donde la columna ‘work_type’ tiene valores nulos\n",
    "indices_nulos = df[df['work_type'].isnull()].index\n",
    "\n",
    "# Convertir el índice de probabilidades a una lista para usar en la asignación aleatoria (np.random.choice)\n",
    "categorias = probabilidades.index.tolist()\n",
    "probs = probabilidades.values.tolist()"
   ]
  },
  {
   "cell_type": "code",
   "execution_count": 14,
   "id": "b83739af",
   "metadata": {},
   "outputs": [],
   "source": [
    "# Generar valores aleatorios para los nulos, utilizando las probabilidades calculadas\n",
    "valores_imputados = np.random.choice(categorias, size=len(indices_nulos), p=probs)\n",
    "\n",
    "# Asignar los valores generados a los nulos en la columna ‘work_type’\n",
    "df.loc[indices_nulos, 'work_type'] = valores_imputados"
   ]
  },
  {
   "cell_type": "code",
   "execution_count": 15,
   "id": "514b8f60",
   "metadata": {},
   "outputs": [
    {
     "data": {
      "text/plain": [
       "job_ID                   0\n",
       "job                      0\n",
       "location                 0\n",
       "company_name             0\n",
       "work_type                0\n",
       "full_time_remote        40\n",
       "no_of_employ           201\n",
       "no_of_application     3284\n",
       "posted_day_ago           6\n",
       "alumni                2229\n",
       "Hiring_person         1659\n",
       "linkedin_followers    2285\n",
       "hiring_person_link    1659\n",
       "job_details             11\n",
       "alumni_binary            0\n",
       "dtype: int64"
      ]
     },
     "execution_count": 15,
     "metadata": {},
     "output_type": "execute_result"
    }
   ],
   "source": [
    "# Verificar que los valores nulos de la columna ‘work_type’ fueron satisfactoriamente imputados\n",
    "df['work_type'].isnull().sum()\n",
    "df.isnull().sum()"
   ]
  },
  {
   "cell_type": "markdown",
   "id": "66c7cad1",
   "metadata": {},
   "source": [
    "* **Variable `full_time_remote`**: Para iniciar el análisis de validarán la cantidad de valores (frecuencia) de cada uno."
   ]
  },
  {
   "cell_type": "code",
   "execution_count": 16,
   "id": "a054df5e",
   "metadata": {},
   "outputs": [
    {
     "data": {
      "text/plain": [
       "full_time_remote\n",
       "Full-time · Mid-Senior level    2875\n",
       "Full-time                       1963\n",
       "Full-time · Associate            380\n",
       "Internship                       125\n",
       "Full-time · Entry level          115\n",
       "Contract · Mid-Senior level       81\n",
       "Contract                          80\n",
       "Part-time                         41\n",
       "Full-time · Executive             33\n",
       "Full-time · Director              24\n",
       "Contract · Associate              24\n",
       "Contract · Entry level            11\n",
       "Internship · Internship            4\n",
       "Temporary                          3\n",
       "Full-time · Internship             3\n",
       "Volunteer                          3\n",
       "Part-time · Mid-Senior level       2\n",
       "11-50 employees                    2\n",
       "Internship · Entry level           2\n",
       "Associate                          1\n",
       "1-10 employees                     1\n",
       "Part-time · Associate              1\n",
       "Contract · Executive               1\n",
       "Name: count, dtype: int64"
      ]
     },
     "execution_count": 16,
     "metadata": {},
     "output_type": "execute_result"
    }
   ],
   "source": [
    "conteo_valores = df['full_time_remote'].value_counts()\n",
    "conteo_valores"
   ]
  },
  {
   "cell_type": "code",
   "execution_count": 17,
   "id": "c2535711",
   "metadata": {},
   "outputs": [
    {
     "data": {
      "text/plain": [
       "40"
      ]
     },
     "execution_count": 17,
     "metadata": {},
     "output_type": "execute_result"
    }
   ],
   "source": [
    "df['full_time_remote'].isnull().sum()"
   ]
  },
  {
   "cell_type": "markdown",
   "id": "dc4f0284",
   "metadata": {},
   "source": [
    "Se observan valores similares en la columna `full_time_remote` con pequeñas variaciones, por lo tanto, para facilitar el análisis se agruparán en un número menor de categorías por medio de una función que las consolida. De igual manera se rellenarán los valores nulos."
   ]
  },
  {
   "cell_type": "code",
   "execution_count": 18,
   "id": "cc404955",
   "metadata": {},
   "outputs": [],
   "source": [
    "# Función para consolidar las categorías en la columna 'full_time_remote'\n",
    "def consolidate_category(value):\n",
    "    if pd.isna(value):\n",
    "        return value  # Retornar NaN tal cual para manejar después\n",
    "    # Las categorías Associate, \n",
    "    if \"Full-time\" in value or \"employees\" in value or \"Associate\" in value:\n",
    "        return \"Full-time\"\n",
    "    elif \"Contract\" in value or \"Temporary\" in value:\n",
    "        return \"Contract\"\n",
    "    elif \"Internship\" in value:\n",
    "        return \"Internship\"\n",
    "    elif \"Part-time\" in value:\n",
    "        return \"Part-time\"\n",
    "    elif \"Volunteer\" in value:\n",
    "        return \"Volunteer\"\n",
    "    else:\n",
    "        return \"Other\"  # Para cualquier otra categoría no especificada"
   ]
  },
  {
   "cell_type": "code",
   "execution_count": 19,
   "id": "62ff5207",
   "metadata": {},
   "outputs": [
    {
     "name": "stdout",
     "output_type": "stream",
     "text": [
      "Conteo de valores únicos en la columna 'full_time_remote' después de consolidar y rellenar nulos:\n",
      "full_time_remote\n",
      "Full-time     5462\n",
      "Contract       176\n",
      "Internship     131\n",
      "Part-time       43\n",
      "Volunteer        3\n",
      "Name: count, dtype: int64\n"
     ]
    }
   ],
   "source": [
    "# Aplicar la función para consolidar las categorías\n",
    "df['full_time_remote'] = df['full_time_remote'].apply(consolidate_category)\n",
    "\n",
    "# Calcular la categoría más común (moda)\n",
    "most_common_category = df['full_time_remote'].mode()[0]\n",
    "\n",
    "# Rellenar los valores nulos con la categoría más común\n",
    "df['full_time_remote'].fillna(most_common_category, inplace=True)\n",
    "\n",
    "# Verificar los cambios imprimiendo el conteo de valores actualizado\n",
    "print(\"Conteo de valores únicos en la columna 'full_time_remote' después de consolidar y rellenar nulos:\")\n",
    "print(df['full_time_remote'].value_counts())"
   ]
  },
  {
   "cell_type": "code",
   "execution_count": 20,
   "id": "869584e5",
   "metadata": {},
   "outputs": [
    {
     "name": "stdout",
     "output_type": "stream",
     "text": [
      "Valores de 'job_ID' cuando 'full_time_remote' es 'Other':\n",
      "Series([], Name: job_ID, dtype: int64)\n"
     ]
    }
   ],
   "source": [
    "# Filtrar el DataFrame para obtener filas donde 'full_time_remote' es 'Other'\n",
    "other_jobs = df[df['full_time_remote'] == 'Other']\n",
    "\n",
    "# Seleccionar la columna 'job_ID' de estas filas\n",
    "other_job_ids = other_jobs['job_ID']\n",
    "\n",
    "# Imprimir los valores de 'job_ID' para estas filas\n",
    "print(\"Valores de 'job_ID' cuando 'full_time_remote' es 'Other':\")\n",
    "print(other_job_ids)"
   ]
  },
  {
   "cell_type": "markdown",
   "id": "55a96619",
   "metadata": {},
   "source": [
    "* **Variables `no_of_employ`**: Primero se hará limpieza de datos de la columna dado que se identificaron (por observación) valores no válidos para representar el número de empleados, lo cual puede interrumpir su análisis."
   ]
  },
  {
   "cell_type": "code",
   "execution_count": 21,
   "id": "d09b9407",
   "metadata": {},
   "outputs": [
    {
     "name": "stdout",
     "output_type": "stream",
     "text": [
      "no_of_employ\n",
      "10.0        242\n",
      "50.0        836\n",
      "200.0       797\n",
      "500.0       367\n",
      "1000.0      281\n",
      "5000.0     2073\n",
      "10000.0     131\n",
      "10001.0     887\n",
      "Name: count, dtype: int64\n"
     ]
    }
   ],
   "source": [
    "# Función para simplificar la columna 'no_of_employ' extrayendo solo el rango de empleados\n",
    "def simplify_employee_range(entry):\n",
    "    if pd.isna(entry):\n",
    "        return None  # Manejo de valores NaN\n",
    "    # Buscar y extraer solo el rango numérico de empleados usando una expresión regular\n",
    "    match = re.search(r'\\d{1,3}(?:,\\d{3})*(?:\\+)?(?=\\s+employees)', entry)\n",
    "    if match:\n",
    "        # Remover comas y extraer número limpio\n",
    "        return int(match.group(0).replace(',', '').replace('+', ''))\n",
    "    return \"Undefined\"  # Etiqueta para entradas que no coincidan con el patrón\n",
    "\n",
    "# Aplicar la función directamente sobre la columna 'no_of_employ' para reemplazar los valores in situ\n",
    "df['no_of_employ'] = df['no_of_employ'].apply(simplify_employee_range)\n",
    "\n",
    "# Ordenar los resultados numéricamente y mostrar el conteo de cada categoría simplificada\n",
    "print(df['no_of_employ'].value_counts().sort_index())"
   ]
  },
  {
   "cell_type": "code",
   "execution_count": 22,
   "id": "64754c03",
   "metadata": {},
   "outputs": [
    {
     "data": {
      "image/png": "[encoded data removed]",
      "text/plain": [
       "<Figure size 600x400 with 1 Axes>"
      ]
     },
     "metadata": {},
     "output_type": "display_data"
    }
   ],
   "source": [
    "# Asegurarse de que los datos son numéricos y están ordenados\n",
    "df['no_of_employ'] = pd.to_numeric(df['no_of_employ'], errors='coerce')  # Convertir a numérico, ignorando errores\n",
    "\n",
    "# Ordenar los datos por número de empleados\n",
    "sorted_counts = df['no_of_employ'].value_counts().sort_index()\n",
    "\n",
    "# Crear el histograma con los datos ordenados\n",
    "plt.figure(figsize=(6, 4))\n",
    "sorted_counts.plot(kind='bar')\n",
    "plt.title('Histograma de no_of_employ Ordenado')\n",
    "plt.xlabel('Categorías de Número de Empleados')\n",
    "plt.ylabel('Frecuencia')\n",
    "plt.xticks(rotation=45)\n",
    "plt.show()"
   ]
  },
  {
   "cell_type": "code",
   "execution_count": 23,
   "id": "7ffdf8e0",
   "metadata": {},
   "outputs": [
    {
     "name": "stdout",
     "output_type": "stream",
     "text": [
      "<class 'pandas.core.frame.DataFrame'>\n",
      "Index: 5815 entries, 0 to 7926\n",
      "Data columns (total 15 columns):\n",
      " #   Column              Non-Null Count  Dtype  \n",
      "---  ------              --------------  -----  \n",
      " 0   job_ID              5815 non-null   int64  \n",
      " 1   job                 5815 non-null   object \n",
      " 2   location            5815 non-null   object \n",
      " 3   company_name        5815 non-null   object \n",
      " 4   work_type           5815 non-null   object \n",
      " 5   full_time_remote    5815 non-null   object \n",
      " 6   no_of_employ        5614 non-null   float64\n",
      " 7   no_of_application   2531 non-null   float64\n",
      " 8   posted_day_ago      5809 non-null   object \n",
      " 9   alumni              3586 non-null   object \n",
      " 10  Hiring_person       4156 non-null   object \n",
      " 11  linkedin_followers  3530 non-null   object \n",
      " 12  hiring_person_link  4156 non-null   object \n",
      " 13  job_details         5804 non-null   object \n",
      " 14  alumni_binary       5815 non-null   int64  \n",
      "dtypes: float64(2), int64(2), object(11)\n",
      "memory usage: 855.9+ KB\n"
     ]
    }
   ],
   "source": [
    "df.info()"
   ]
  },
  {
   "cell_type": "markdown",
   "id": "e0c64d2a",
   "metadata": {},
   "source": [
    "Al igual que con la variable `work_type`, **para los valores nulos de la columna `no_of_employ` asignaremos aleatoriamente una de las 7 categorías (graficadas en el histograma anterior)**. Dado que estos nulos son una pequeña fracción del conjunto de datos (201 en total), la asignación aleatoria basada en las probabilidades observadas de las otras categorías debería reflejar adecuadamente la distribución general sin complicar el proceso."
   ]
  },
  {
   "cell_type": "code",
   "execution_count": 24,
   "id": "072552d9",
   "metadata": {},
   "outputs": [
    {
     "name": "stdout",
     "output_type": "stream",
     "text": [
      "Probabilidades de cada categoría en 'no_of_employ':\n",
      "no_of_employ\n",
      "5000.0     0.369255\n",
      "10001.0    0.157998\n",
      "50.0       0.148913\n",
      "200.0      0.141967\n",
      "500.0      0.065372\n",
      "1000.0     0.050053\n",
      "10.0       0.043107\n",
      "10000.0    0.023335\n",
      "Name: count, dtype: float64\n"
     ]
    }
   ],
   "source": [
    "# Calcular la cantidad total de valores no nulos en la columna ‘no_of_employ’\n",
    "total_no_nulos = df['no_of_employ'].notnull().sum()\n",
    "\n",
    "# Calcular la frecuencia de cada categoría en la columna ‘no_of_employ’, excluyendo nulos\n",
    "frecuencias = df['no_of_employ'].value_counts()\n",
    "\n",
    "# Calcular las probabilidades de cada categoría\n",
    "probabilidades = frecuencias / total_no_nulos\n",
    "\n",
    "# Mostrar las probabilidades calculadas\n",
    "print(\"Probabilidades de cada categoría en 'no_of_employ':\")\n",
    "print(probabilidades)"
   ]
  },
  {
   "cell_type": "code",
   "execution_count": 25,
   "id": "41ba8286",
   "metadata": {},
   "outputs": [],
   "source": [
    "# Identificar los índices de las filas donde la columna ‘work_type’ tiene valores nulos\n",
    "indices_nulos = df[df['no_of_employ'].isnull()].index\n",
    "\n",
    "# Convertir el índice de probabilidades a una lista para usar en la asignación aleatoria (np.random.choice)\n",
    "categorias = probabilidades.index.tolist()\n",
    "probs = probabilidades.values.tolist()"
   ]
  },
  {
   "cell_type": "code",
   "execution_count": 26,
   "id": "31bab4fa",
   "metadata": {},
   "outputs": [],
   "source": [
    "# Generar valores aleatorios para los nulos, utilizando las probabilidades calculadas\n",
    "valores_imputados = np.random.choice(categorias, size=len(indices_nulos), p=probs)\n",
    "\n",
    "# Asignar los valores generados a los nulos en la columna ‘work_type’\n",
    "df.loc[indices_nulos, 'no_of_employ'] = valores_imputados"
   ]
  },
  {
   "cell_type": "code",
   "execution_count": 27,
   "id": "8c276cd5",
   "metadata": {},
   "outputs": [
    {
     "data": {
      "text/plain": [
       "job_ID                   0\n",
       "job                      0\n",
       "location                 0\n",
       "company_name             0\n",
       "work_type                0\n",
       "full_time_remote         0\n",
       "no_of_employ             0\n",
       "no_of_application     3284\n",
       "posted_day_ago           6\n",
       "alumni                2229\n",
       "Hiring_person         1659\n",
       "linkedin_followers    2285\n",
       "hiring_person_link    1659\n",
       "job_details             11\n",
       "alumni_binary            0\n",
       "dtype: int64"
      ]
     },
     "execution_count": 27,
     "metadata": {},
     "output_type": "execute_result"
    }
   ],
   "source": [
    "# Verificar que los valores nulos de la columna ‘work_type’ fueron satisfactoriamente imputados\n",
    "df['no_of_employ'].isnull().sum()\n",
    "df.isnull().sum()"
   ]
  },
  {
   "cell_type": "code",
   "execution_count": 28,
   "id": "9c33d94d",
   "metadata": {},
   "outputs": [
    {
     "name": "stdout",
     "output_type": "stream",
     "text": [
      "<class 'pandas.core.frame.DataFrame'>\n",
      "Index: 5815 entries, 0 to 7926\n",
      "Data columns (total 15 columns):\n",
      " #   Column              Non-Null Count  Dtype  \n",
      "---  ------              --------------  -----  \n",
      " 0   job_ID              5815 non-null   int64  \n",
      " 1   job                 5815 non-null   object \n",
      " 2   location            5815 non-null   object \n",
      " 3   company_name        5815 non-null   object \n",
      " 4   work_type           5815 non-null   object \n",
      " 5   full_time_remote    5815 non-null   object \n",
      " 6   no_of_employ        5815 non-null   float64\n",
      " 7   no_of_application   2531 non-null   float64\n",
      " 8   posted_day_ago      5809 non-null   object \n",
      " 9   alumni              3586 non-null   object \n",
      " 10  Hiring_person       4156 non-null   object \n",
      " 11  linkedin_followers  3530 non-null   object \n",
      " 12  hiring_person_link  4156 non-null   object \n",
      " 13  job_details         5804 non-null   object \n",
      " 14  alumni_binary       5815 non-null   int64  \n",
      "dtypes: float64(2), int64(2), object(11)\n",
      "memory usage: 855.9+ KB\n"
     ]
    }
   ],
   "source": [
    "# Validar que los valores nulos de la columna 'no_of_employ' fueron imputados satisfactoriamente\n",
    "df.info()"
   ]
  },
  {
   "cell_type": "code",
   "execution_count": 29,
   "id": "2af8c240",
   "metadata": {},
   "outputs": [
    {
     "name": "stdout",
     "output_type": "stream",
     "text": [
      "job_ID                5815\n",
      "job                   2987\n",
      "location               151\n",
      "company_name          2494\n",
      "work_type                3\n",
      "full_time_remote         5\n",
      "no_of_employ             8\n",
      "no_of_application      191\n",
      "posted_day_ago          91\n",
      "alumni                 182\n",
      "Hiring_person         2798\n",
      "linkedin_followers    3009\n",
      "hiring_person_link    2820\n",
      "job_details           4556\n",
      "alumni_binary            2\n",
      "dtype: int64\n"
     ]
    }
   ],
   "source": [
    "valores_unicos = df.nunique()\n",
    "\n",
    "# Mostrar el número de valores únicos para cada columna\n",
    "print(valores_unicos)"
   ]
  },
  {
   "cell_type": "markdown",
   "id": "7431c1f2",
   "metadata": {},
   "source": [
    "## ESTA VARIABLE QUEDARÁ EL HOLD POR EL MOMENTO\n",
    "\n",
    "* **Variables `no_of_application`**: Se imputan con la mediana porque es una buena medida de tendencia central que no es tan sensible a valores extremos como la media."
   ]
  },
  {
   "cell_type": "code",
   "execution_count": null,
   "id": "6f296673",
   "metadata": {},
   "outputs": [],
   "source": []
  },
  {
   "cell_type": "markdown",
   "id": "df44302b",
   "metadata": {},
   "source": [
    "* **Variables `posted_day_ago`**: Para la columan de `posted_day_ago` se va a crear una función para convertir los valores de la medida de tiempo actual a minutos y estandarizar la medida en toda la columna. "
   ]
  },
  {
   "cell_type": "code",
   "execution_count": 30,
   "id": "f24f2567",
   "metadata": {},
   "outputs": [],
   "source": [
    "def convert_to_minutes(time_string):\n",
    "    if pd.isna(time_string):\n",
    "        return None \n",
    "    \n",
    "    # Extraer el número y la unidad del tiempo utilizando expresiones regulares\n",
    "    match = re.match(r'(\\d+)\\s*(second|minute|hour|day|week)s?', time_string)\n",
    "    if not match:\n",
    "        return None\n",
    "    \n",
    "    number, unit = int(match.group(1)), match.group(2)\n",
    "    \n",
    "    # Convertir a minutos según la unidad\n",
    "    # Convertir segundos a minutos\n",
    "    if 'second' == unit:\n",
    "        return number / 60\n",
    "    # Ya está en minutos\n",
    "    elif 'minute' == unit:\n",
    "        return number  \n",
    "    # Convertir horas a minutos\n",
    "    elif 'hour' == unit:\n",
    "        return number * 60  \n",
    "    elif 'day' == unit:\n",
    "    # Convertir días a minutos\n",
    "        return number * 1440  \n",
    "    elif 'week' == unit:\n",
    "    # Convertir semanas a minutos\n",
    "        return number * 10080\n",
    "    else:\n",
    "        return None "
   ]
  },
  {
   "cell_type": "code",
   "execution_count": 31,
   "id": "1d2396f7",
   "metadata": {},
   "outputs": [
    {
     "data": {
      "text/plain": [
       "count     5809.000000\n",
       "mean      1709.595737\n",
       "std       2309.036349\n",
       "min          0.416667\n",
       "25%        360.000000\n",
       "50%        720.000000\n",
       "75%       1440.000000\n",
       "max      10080.000000\n",
       "Name: posted_day_ago, dtype: float64"
      ]
     },
     "execution_count": 31,
     "metadata": {},
     "output_type": "execute_result"
    }
   ],
   "source": [
    "# Aplicar la función directamente sobre la columna 'posted_day_ago'\n",
    "df['posted_day_ago'] = df['posted_day_ago'].apply(convert_to_minutes)\n",
    "\n",
    "# Verificar los resultados como númericos\n",
    "df['posted_day_ago'].describe()"
   ]
  },
  {
   "cell_type": "code",
   "execution_count": 32,
   "id": "088b7993",
   "metadata": {},
   "outputs": [
    {
     "data": {
      "text/plain": [
       "job_ID                   0\n",
       "job                      0\n",
       "location                 0\n",
       "company_name             0\n",
       "work_type                0\n",
       "full_time_remote         0\n",
       "no_of_employ             0\n",
       "no_of_application     3284\n",
       "posted_day_ago           6\n",
       "alumni                2229\n",
       "Hiring_person         1659\n",
       "linkedin_followers    2285\n",
       "hiring_person_link    1659\n",
       "job_details             11\n",
       "alumni_binary            0\n",
       "dtype: int64"
      ]
     },
     "execution_count": 32,
     "metadata": {},
     "output_type": "execute_result"
    }
   ],
   "source": [
    "# Validar cuántos nulos quedan en la columna 'posted_day_ago'\n",
    "df.isnull().sum()"
   ]
  },
  {
   "cell_type": "markdown",
   "id": "9d580163",
   "metadata": {},
   "source": [
    "Se imputarán los datos nulos de la columna 'posted_day_ago' con la media dado que son únicamente 6 valores nulos."
   ]
  },
  {
   "cell_type": "code",
   "execution_count": 33,
   "id": "3c6708c8",
   "metadata": {},
   "outputs": [
    {
     "data": {
      "text/plain": [
       "job_ID                   0\n",
       "job                      0\n",
       "location                 0\n",
       "company_name             0\n",
       "work_type                0\n",
       "full_time_remote         0\n",
       "no_of_employ             0\n",
       "no_of_application     3284\n",
       "posted_day_ago           0\n",
       "alumni                2229\n",
       "Hiring_person         1659\n",
       "linkedin_followers    2285\n",
       "hiring_person_link    1659\n",
       "job_details             11\n",
       "alumni_binary            0\n",
       "dtype: int64"
      ]
     },
     "execution_count": 33,
     "metadata": {},
     "output_type": "execute_result"
    }
   ],
   "source": [
    "# Calcular la media de la columna 'posted_day_ago'\n",
    "mean_pda = df['posted_day_ago'].mean()\n",
    "\n",
    "# Llenar los valores nulos en la columna 'posted_day_ago' con la media calculada\n",
    "df['posted_day_ago'].fillna(mean_pda, inplace=True)\n",
    "\n",
    "# Validar cuántos nulos quedan en la columna 'posted_day_ago'\n",
    "df.isnull().sum()"
   ]
  },
  {
   "cell_type": "markdown",
   "id": "81a4c948",
   "metadata": {},
   "source": [
    "* **Variables `alumni`, y `linkedin_followers`**: Primero, ambas variables se convertirán en numéricas para su facilidad de tratamiento (imputación) y análisis. \n",
    "* La columna `alumni` se convertirá en numérica ignorando los valores nulos.\n",
    "* La columna `linkedin_followers` se convertirá en numérica ignorando nulos y además sustituyendo los valores de texto (como por ejemplo *'Thiruvananthapuram, Kerala'*) en nulo/vacío dado que se asume que no son valores válidos para `linkedin_followers`.\n",
    "\n",
    "*Nota: En LinkedIn, el término \"company alumni\" se refiere a individuos que anteriormente trabajaron para una organización y ahora forman parte de una red de ex empleados.*"
   ]
  },
  {
   "cell_type": "code",
   "execution_count": 34,
   "id": "fd897039",
   "metadata": {},
   "outputs": [
    {
     "name": "stdout",
     "output_type": "stream",
     "text": [
      "<class 'pandas.core.frame.DataFrame'>\n",
      "Index: 5815 entries, 0 to 7926\n",
      "Data columns (total 15 columns):\n",
      " #   Column              Non-Null Count  Dtype  \n",
      "---  ------              --------------  -----  \n",
      " 0   job_ID              5815 non-null   int64  \n",
      " 1   job                 5815 non-null   object \n",
      " 2   location            5815 non-null   object \n",
      " 3   company_name        5815 non-null   object \n",
      " 4   work_type           5815 non-null   object \n",
      " 5   full_time_remote    5815 non-null   object \n",
      " 6   no_of_employ        5815 non-null   float64\n",
      " 7   no_of_application   2531 non-null   float64\n",
      " 8   posted_day_ago      5815 non-null   float64\n",
      " 9   alumni              3586 non-null   object \n",
      " 10  Hiring_person       4156 non-null   object \n",
      " 11  linkedin_followers  3530 non-null   object \n",
      " 12  hiring_person_link  4156 non-null   object \n",
      " 13  job_details         5804 non-null   object \n",
      " 14  alumni_binary       5815 non-null   int64  \n",
      "dtypes: float64(3), int64(2), object(10)\n",
      "memory usage: 855.9+ KB\n"
     ]
    }
   ],
   "source": [
    "# Validar antes de la modificación de la columna 'alumni' y 'linkedin_followers'\n",
    "df.info()"
   ]
  },
  {
   "cell_type": "code",
   "execution_count": 35,
   "id": "52138a41",
   "metadata": {},
   "outputs": [
    {
     "name": "stdout",
     "output_type": "stream",
     "text": [
      "<class 'pandas.core.frame.DataFrame'>\n",
      "Index: 5815 entries, 0 to 7926\n",
      "Data columns (total 15 columns):\n",
      " #   Column              Non-Null Count  Dtype  \n",
      "---  ------              --------------  -----  \n",
      " 0   job_ID              5815 non-null   int64  \n",
      " 1   job                 5815 non-null   object \n",
      " 2   location            5815 non-null   object \n",
      " 3   company_name        5815 non-null   object \n",
      " 4   work_type           5815 non-null   object \n",
      " 5   full_time_remote    5815 non-null   object \n",
      " 6   no_of_employ        5815 non-null   float64\n",
      " 7   no_of_application   2531 non-null   float64\n",
      " 8   posted_day_ago      5815 non-null   float64\n",
      " 9   alumni              3586 non-null   float64\n",
      " 10  Hiring_person       4156 non-null   object \n",
      " 11  linkedin_followers  3505 non-null   float64\n",
      " 12  hiring_person_link  4156 non-null   object \n",
      " 13  job_details         5804 non-null   object \n",
      " 14  alumni_binary       5815 non-null   int64  \n",
      "dtypes: float64(5), int64(2), object(8)\n",
      "memory usage: 855.9+ KB\n"
     ]
    }
   ],
   "source": [
    "# Extraer valores numéricos y convertir la columna 'alumni' a numérica, \n",
    "# excluyendo nulos\n",
    "df['alumni'] = df['alumni'].astype(str).str.replace(r'[^\\d]', '', regex=True)\n",
    "df['alumni'] = pd.to_numeric(df['alumni'], errors='coerce')\n",
    "\n",
    "# Extraer valores numéricos y convertir la columna 'linkedin_followers' a numérica, \n",
    "# excluyendo nulos y convirtiendo los valores de texto a vacío/nulo\n",
    "df['linkedin_followers'] = df['linkedin_followers'].astype(str).str.replace(r'[^\\d]', '', regex=True)\n",
    "df['linkedin_followers'] = pd.to_numeric(df['linkedin_followers'], errors='coerce')\n",
    "\n",
    "# Validar cuántos nulos quedan en la columna 'posted_day_ago'\n",
    "df.info()"
   ]
  },
  {
   "cell_type": "code",
   "execution_count": 36,
   "id": "1a4eac4c",
   "metadata": {},
   "outputs": [
    {
     "data": {
      "text/plain": [
       "job_ID                   0\n",
       "job                      0\n",
       "location                 0\n",
       "company_name             0\n",
       "work_type                0\n",
       "full_time_remote         0\n",
       "no_of_employ             0\n",
       "no_of_application     3284\n",
       "posted_day_ago           0\n",
       "alumni                2229\n",
       "Hiring_person         1659\n",
       "linkedin_followers    2310\n",
       "hiring_person_link    1659\n",
       "job_details             11\n",
       "alumni_binary            0\n",
       "dtype: int64"
      ]
     },
     "execution_count": 36,
     "metadata": {},
     "output_type": "execute_result"
    }
   ],
   "source": [
    "# Validar cuántos nulos quedan en la columna 'alumni' y 'linkedin_followers'\n",
    "df.isnull().sum()"
   ]
  },
  {
   "cell_type": "markdown",
   "id": "40b6228e",
   "metadata": {},
   "source": [
    "Posteriormente, **los valores nulos de dichas columnas se pueden imputar con la mediana** para evitar la influencia de valores extremadamente altos que podrían distorsionar la media."
   ]
  },
  {
   "cell_type": "code",
   "execution_count": 37,
   "id": "a5d168e1",
   "metadata": {},
   "outputs": [],
   "source": [
    "# Imputación de la mediana para 'alumni'\n",
    "df['alumni'].fillna(df['alumni'].median(), inplace=True)\n",
    "\n",
    "# Imputación de la mediana para 'linkedin_followers'\n",
    "df['linkedin_followers'].fillna(df['linkedin_followers'].median(), inplace=True)"
   ]
  },
  {
   "cell_type": "code",
   "execution_count": 38,
   "id": "d2433d5d",
   "metadata": {},
   "outputs": [
    {
     "data": {
      "text/plain": [
       "job_ID                   0\n",
       "job                      0\n",
       "location                 0\n",
       "company_name             0\n",
       "work_type                0\n",
       "full_time_remote         0\n",
       "no_of_employ             0\n",
       "no_of_application     3284\n",
       "posted_day_ago           0\n",
       "alumni                   0\n",
       "Hiring_person         1659\n",
       "linkedin_followers       0\n",
       "hiring_person_link    1659\n",
       "job_details             11\n",
       "alumni_binary            0\n",
       "dtype: int64"
      ]
     },
     "execution_count": 38,
     "metadata": {},
     "output_type": "execute_result"
    }
   ],
   "source": [
    "# Validar que no queden nulos en la columna 'alumni' y 'linkedin_followers'\n",
    "df.isnull().sum()"
   ]
  },
  {
   "cell_type": "markdown",
   "id": "4b3faf77",
   "metadata": {},
   "source": [
    "* **Variables `Hiring_person`, `hiring_person_link`, y `job_details`:** Debido a que estas variables contienen información específica y única como nombres de personas, enlaces a perfiles de LinkedIn, y descripciones detalladas de puestos de trabajo, no es apropiado aplicar métodos estadísticos de imputación como la media o la mediana. Estas técnicas podrían generar datos que no reflejen la realidad de la información requerida. En lugar de esto, se opta por asignar el valor \"*No definido*\" en casos de datos faltantes. Esta elección garantiza que se mantenga la integridad y la especificidad de los datos, evitando la creación de enlaces o descripciones que podrían ser incorrectas o engañosas."
   ]
  },
  {
   "cell_type": "code",
   "execution_count": 39,
   "id": "dfdeb5b6",
   "metadata": {},
   "outputs": [
    {
     "data": {
      "text/plain": [
       "job_ID                   0\n",
       "job                      0\n",
       "location                 0\n",
       "company_name             0\n",
       "work_type                0\n",
       "full_time_remote         0\n",
       "no_of_employ             0\n",
       "no_of_application     3284\n",
       "posted_day_ago           0\n",
       "alumni                   0\n",
       "Hiring_person            0\n",
       "linkedin_followers       0\n",
       "hiring_person_link       0\n",
       "job_details              0\n",
       "alumni_binary            0\n",
       "dtype: int64"
      ]
     },
     "execution_count": 39,
     "metadata": {},
     "output_type": "execute_result"
    }
   ],
   "source": [
    "df['Hiring_person'].fillna('No definido', inplace=True)\n",
    "df['hiring_person_link'].fillna('No definido', inplace=True)\n",
    "df['job_details'].fillna('No definido', inplace=True)\n",
    "\n",
    "# Validar que no queden nulos en las columnas que se imputaron\n",
    "df.isnull().sum()"
   ]
  },
  {
   "cell_type": "markdown",
   "id": "2d14ebcd",
   "metadata": {},
   "source": [
    "### Análisis de Reactivo 1.2. Tratamiento de Datos Faltantes e Inconsistentes\n",
    "\n",
    "* El dataset `linkedin.csv` tenía gran volumen de data incorrecta o inconsistente, por lo que requirió múltiples métodos de tratamiento de datos, como por ejemplo:\n",
    "    * Imputación por media\n",
    "    * Imputación por mediana\n",
    "    * Eliminación de filas y columnas vacías\n",
    "    * Clasificación y limpieza de datos\n",
    "    * Creación y reasignación de categorías\n",
    "    * Transformación de datos categóricos a numéricos para facilidad de tratamiento"
   ]
  },
  {
   "cell_type": "markdown",
   "id": "244ac7f8",
   "metadata": {},
   "source": [
    "### 1.3. Codificación de variables categóricas "
   ]
  },
  {
   "cell_type": "markdown",
   "id": "512878d5",
   "metadata": {},
   "source": [
    "### 1.4. Transformación de variables numéricas"
   ]
  },
  {
   "cell_type": "markdown",
   "id": "24a8b3e7",
   "metadata": {},
   "source": [
    "### 1.5.  Escalamiento de variables"
   ]
  },
  {
   "cell_type": "markdown",
   "id": "c45e251e",
   "metadata": {},
   "source": [
    "### 1.6. Discretización de variables"
   ]
  },
  {
   "cell_type": "markdown",
   "id": "a7361e5e",
   "metadata": {},
   "source": [
    "## 2.- Del dataframe obtenido realizar una clusterización mediante los algoritmos "
   ]
  },
  {
   "cell_type": "markdown",
   "id": "362c9169",
   "metadata": {},
   "source": [
    "#### -  Kmeans++"
   ]
  },
  {
   "cell_type": "markdown",
   "id": "8a5139ce",
   "metadata": {},
   "source": [
    "#### -  Arboles de decisión"
   ]
  },
  {
   "cell_type": "markdown",
   "id": "756448b3",
   "metadata": {},
   "source": [
    "#### -  Clustering jerárquico. "
   ]
  },
  {
   "cell_type": "markdown",
   "id": "228a9bec",
   "metadata": {},
   "source": [
    "#### Gráficas y análisis de resultados.\n"
   ]
  },
  {
   "cell_type": "markdown",
   "id": "faf59ee5",
   "metadata": {},
   "source": [
    "### 3.- Finalmente, del conjunto de datos, identificar la o las variables de salida y las variables de entrada para entrenar algún algoritmo de ML (Arboles de desición, Regresiones lineales, etc… ), se requiere obtener un accuracy arriba del 80%, si el accuracy está por debajo de este valor, entonces será necesario repetir el punto 1."
   ]
  },
  {
   "cell_type": "markdown",
   "id": "62b10761",
   "metadata": {},
   "source": [
    "#### Variable o variables de salida y de entrada que se usarán para entrenar al algoritmo de ML"
   ]
  },
  {
   "cell_type": "markdown",
   "id": "4e3ed99e",
   "metadata": {},
   "source": [
    "#### código con el modelo de árbol de decisión"
   ]
  },
  {
   "cell_type": "markdown",
   "id": "e7e827de",
   "metadata": {},
   "source": [
    "#### código con el modelo de regresión lineal "
   ]
  },
  {
   "cell_type": "markdown",
   "id": "ea209509",
   "metadata": {},
   "source": [
    "#### Celda para calcular el score"
   ]
  },
  {
   "cell_type": "code",
   "execution_count": 40,
   "id": "b092aa5a",
   "metadata": {},
   "outputs": [],
   "source": [
    "#Drop de Column1 y Company_id ya que es una columna totalmente vacia, no tiene datos sólo el header\n",
    "#df.drop('Column1', axis=1, inplace=True)\n",
    "#df.drop('company_id', axis=1, inplace=True)"
   ]
  },
  {
   "cell_type": "code",
   "execution_count": 41,
   "id": "881088fc",
   "metadata": {},
   "outputs": [],
   "source": [
    "#df = pd.read_csv('linkedin.csv')"
   ]
  },
  {
   "cell_type": "code",
   "execution_count": 42,
   "id": "2e98080c",
   "metadata": {},
   "outputs": [],
   "source": [
    "#df.head()"
   ]
  },
  {
   "cell_type": "code",
   "execution_count": 43,
   "id": "44749279",
   "metadata": {},
   "outputs": [],
   "source": [
    "#categorias_principales = [\n",
    "#    \"Data Analyst\", \"Database Engineer\", \"Software Engineer\", \"Software Developer\", \n",
    "#    \"Project Manager\", \"Product Manager\",\n",
    "#    \"Account Manager\", \"Sales Representative\", \"Data Scientist\", \"Business Analyst\",\n",
    "#    \"Marketing Manager\", \"Graphic Designer\", \"UX/UI Designer\", \"Operations Manager\",\n",
    "#    \"Financial Analyst\", \"Human Resources Manager\", \"Administrative Assistant\",\n",
    " #   \"Customer Service Representative\", \"Web Developer\", \"Network Engineer\",\n",
    " #   \"Systems Analyst\", \"Consultant\", \"Quality Assurance Engineer\", \"SEO Specialist\"\n",
    "#]"
   ]
  },
  {
   "cell_type": "markdown",
   "id": "e5921f36",
   "metadata": {},
   "source": [
    "# Funcion para categorizar la columna 'job' en grupos\n",
    "def categorizar_posicion(posicion):\n",
    "    \n",
    "    if isinstance(posicion, str):\n",
    "        categoria, score = process.extractOne(posicion, categorias_principales)\n",
    "        if score > 75:\n",
    "            return categoria\n",
    "        else:\n",
    "            return \"Otro\"\n",
    "    else:\n",
    "        # Return 'Otro' or a specific category for missing/invalid data\n",
    "        return \"No especificado\""
   ]
  },
  {
   "cell_type": "markdown",
   "id": "a6af8aeb",
   "metadata": {},
   "source": [
    "df['categoria'] = df['job'].apply(categorizar_posicion)\n",
    "df.head()"
   ]
  },
  {
   "cell_type": "markdown",
   "id": "c5da497f",
   "metadata": {},
   "source": [
    "df_nuevo = df\n",
    "df_nuevo.head()"
   ]
  },
  {
   "cell_type": "markdown",
   "id": "c566f44f",
   "metadata": {},
   "source": [
    "df.head()"
   ]
  },
  {
   "cell_type": "markdown",
   "id": "d87a38cf",
   "metadata": {},
   "source": [
    "df.to_csv('linkedin_categorizado.csv', index=False)"
   ]
  },
  {
   "cell_type": "markdown",
   "id": "d897fee1",
   "metadata": {},
   "source": [
    "print(df['categoria'].unique())"
   ]
  },
  {
   "cell_type": "code",
   "execution_count": null,
   "id": "474b3437",
   "metadata": {},
   "outputs": [],
   "source": []
  }
 ],
 "metadata": {
  "kernelspec": {
   "display_name": "Python 3 (ipykernel)",
   "language": "python",
   "name": "python3"
  },
  "language_info": {
   "codemirror_mode": {
    "name": "ipython",
    "version": 3
   },
   "file_extension": ".py",
   "mimetype": "text/x-python",
   "name": "python",
   "nbconvert_exporter": "python",
   "pygments_lexer": "ipython3",
   "version": "3.11.5"
  }
 },
 "nbformat": 4,
 "nbformat_minor": 5
}
